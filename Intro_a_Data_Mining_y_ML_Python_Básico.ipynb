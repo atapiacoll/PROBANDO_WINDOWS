{
  "nbformat": 4,
  "nbformat_minor": 0,
  "metadata": {
    "colab": {
      "provenance": [],
      "include_colab_link": true
    },
    "kernelspec": {
      "name": "python3",
      "display_name": "Python 3"
    },
    "language_info": {
      "name": "python"
    }
  },
  "cells": [
    {
      "cell_type": "markdown",
      "metadata": {
        "id": "view-in-github",
        "colab_type": "text"
      },
      "source": [
        "<a href=\"https://colab.research.google.com/github/atapiacoll/PROBANDO_WINDOWS/blob/main/Intro_a_Data_Mining_y_ML_Python_B%C3%A1sico.ipynb\" target=\"_parent\"><img src=\"https://colab.research.google.com/assets/colab-badge.svg\" alt=\"Open In Colab\"/></a>"
      ]
    },
    {
      "cell_type": "markdown",
      "source": [
        "# Python Básico\n",
        "## Introducción a Minería de Datos y Machine Learning\n",
        "\n",
        "**Profesor:** Mauricio Arriagada.\n",
        "\n",
        "**Ayudante Jefe:** [Vicente Agüero](https://www.linkedin.com/in/vicente-aguero/).\n",
        "\n",
        "> **Recordatorio:** ¡Toda comunicación con el ayudante debe ser mediante la plataforma del curso!"
      ],
      "metadata": {
        "id": "46d8Mcjc3jvO"
      }
    },
    {
      "cell_type": "markdown",
      "source": [
        "# Variables\n",
        "**¿Más info?** [Tutorial de Variables](https://www.w3schools.com/python/python_variables.asp)"
      ],
      "metadata": {
        "id": "8W12NEFM3mmG"
      }
    },
    {
      "cell_type": "code",
      "source": [
        "x = 5 # Entero\n",
        "y = 2.5 # Flotante\n",
        "z = 'Hola' # String\n",
        "a = True # Booleano\n",
        "b = None # Nulo"
      ],
      "metadata": {
        "id": "qNVOVDw33iye"
      },
      "execution_count": null,
      "outputs": []
    },
    {
      "cell_type": "code",
      "source": [
        "print(x+y)"
      ],
      "metadata": {
        "colab": {
          "base_uri": "https://localhost:8080/"
        },
        "id": "fXolihU54Ftm",
        "outputId": "0c813402-af40-4c3f-8514-9652e0285e8f"
      },
      "execution_count": null,
      "outputs": [
        {
          "output_type": "stream",
          "name": "stdout",
          "text": [
            "7.5\n"
          ]
        }
      ]
    },
    {
      "cell_type": "code",
      "source": [
        "print(z)"
      ],
      "metadata": {
        "colab": {
          "base_uri": "https://localhost:8080/"
        },
        "id": "7pRIsuNx3poi",
        "outputId": "195629b4-1ea0-4ca2-ffa5-1989ed5cacf6"
      },
      "execution_count": null,
      "outputs": [
        {
          "output_type": "stream",
          "name": "stdout",
          "text": [
            "Hola\n"
          ]
        }
      ]
    },
    {
      "cell_type": "markdown",
      "source": [
        "# Strings\n",
        "**¿Más info?** [Tutorial de Strings](https://www.geeksforgeeks.org/python-string/), [Tutorial de String Methods](https://www.w3schools.com/python/python_ref_string.asp)"
      ],
      "metadata": {
        "id": "kAQSG4oC3uCd"
      }
    },
    {
      "cell_type": "code",
      "source": [
        "name = 'Vicente'\n",
        "print(name)"
      ],
      "metadata": {
        "colab": {
          "base_uri": "https://localhost:8080/"
        },
        "id": "UmQ4X3lk3r_1",
        "outputId": "7060ad29-ee61-4767-8910-8b3b879eb38f"
      },
      "execution_count": null,
      "outputs": [
        {
          "output_type": "stream",
          "name": "stdout",
          "text": [
            "Vicente\n"
          ]
        }
      ]
    },
    {
      "cell_type": "code",
      "source": [
        "print(name.upper())"
      ],
      "metadata": {
        "colab": {
          "base_uri": "https://localhost:8080/"
        },
        "id": "GzfZ10-e4wAn",
        "outputId": "c448c336-b546-49df-fb64-b4c894d9bc39"
      },
      "execution_count": null,
      "outputs": [
        {
          "output_type": "stream",
          "name": "stdout",
          "text": [
            "VICENTE\n"
          ]
        }
      ]
    },
    {
      "cell_type": "code",
      "source": [
        "print(name[2:5])"
      ],
      "metadata": {
        "colab": {
          "base_uri": "https://localhost:8080/"
        },
        "id": "uMiEzIym4xkq",
        "outputId": "e9c33c16-1dba-42a1-c2f8-50d49a625238"
      },
      "execution_count": null,
      "outputs": [
        {
          "output_type": "stream",
          "name": "stdout",
          "text": [
            "cen\n"
          ]
        }
      ]
    },
    {
      "cell_type": "code",
      "source": [
        "count = 5\n",
        "print(f'Contador: {count}')"
      ],
      "metadata": {
        "colab": {
          "base_uri": "https://localhost:8080/"
        },
        "id": "X2KpT3mD5OIg",
        "outputId": "52a15c18-aaf5-41e8-a67a-039afe1ef4ba"
      },
      "execution_count": null,
      "outputs": [
        {
          "output_type": "stream",
          "name": "stdout",
          "text": [
            "Contador: 5\n"
          ]
        }
      ]
    },
    {
      "cell_type": "markdown",
      "source": [
        "# Condicionales"
      ],
      "metadata": {
        "id": "JOw31upx54QD"
      }
    },
    {
      "cell_type": "code",
      "source": [
        "a = True # True o False\n",
        "if a:\n",
        "    print('a es verdadero')\n",
        "else:\n",
        "    print('a es falso')"
      ],
      "metadata": {
        "colab": {
          "base_uri": "https://localhost:8080/"
        },
        "id": "zX9UqXzV53ut",
        "outputId": "477afaa0-11da-4cd9-fd45-2ece8a3147d7"
      },
      "execution_count": null,
      "outputs": [
        {
          "output_type": "stream",
          "name": "stdout",
          "text": [
            "a es verdadero\n"
          ]
        }
      ]
    },
    {
      "cell_type": "code",
      "source": [
        "a = 5\n",
        "b = 2\n",
        "if a > b:\n",
        "    print('a es mayor que b')\n",
        "elif a == b:\n",
        "    print('a es igual que b')\n",
        "else:\n",
        "    print('a es menor que b')"
      ],
      "metadata": {
        "colab": {
          "base_uri": "https://localhost:8080/"
        },
        "id": "AbldvLKY6I_S",
        "outputId": "b4ac82a2-861c-4182-aa66-863229529336"
      },
      "execution_count": null,
      "outputs": [
        {
          "output_type": "stream",
          "name": "stdout",
          "text": [
            "a es mayor que b\n"
          ]
        }
      ]
    },
    {
      "cell_type": "markdown",
      "source": [
        "# Funciones"
      ],
      "metadata": {
        "id": "Q2QWL9jv48uS"
      }
    },
    {
      "cell_type": "code",
      "source": [
        "def good_morning(name):\n",
        "    print('¡Buenos días, ' + name + '!')\n",
        "\n",
        "\n",
        "good_morning('Vicente')"
      ],
      "metadata": {
        "colab": {
          "base_uri": "https://localhost:8080/"
        },
        "id": "-CntW1Zr48QE",
        "outputId": "ee0c32f6-1870-4ccd-f22b-79072eadb2a1"
      },
      "execution_count": null,
      "outputs": [
        {
          "output_type": "stream",
          "name": "stdout",
          "text": [
            "¡Buenos días, Vicente!\n"
          ]
        }
      ]
    },
    {
      "cell_type": "markdown",
      "source": [
        "# Loops"
      ],
      "metadata": {
        "id": "KSfgallY5bm4"
      }
    },
    {
      "cell_type": "markdown",
      "source": [
        "## For Loops"
      ],
      "metadata": {
        "id": "oW9NBZ6p5dyD"
      }
    },
    {
      "cell_type": "code",
      "source": [
        "for i in range(5):\n",
        "    print(i)"
      ],
      "metadata": {
        "colab": {
          "base_uri": "https://localhost:8080/"
        },
        "id": "_G1A6aFd40N0",
        "outputId": "106d5cfc-8bf7-42ea-bf63-da914631c74e"
      },
      "execution_count": null,
      "outputs": [
        {
          "output_type": "stream",
          "name": "stdout",
          "text": [
            "0\n",
            "1\n",
            "2\n",
            "3\n",
            "4\n"
          ]
        }
      ]
    },
    {
      "cell_type": "code",
      "source": [
        "for i in range(2, 5):\n",
        "    print(i)"
      ],
      "metadata": {
        "colab": {
          "base_uri": "https://localhost:8080/"
        },
        "id": "IpJs_C5_5i9L",
        "outputId": "7fc1d87f-2e6c-44fe-f2f3-1df02a2d4be3"
      },
      "execution_count": null,
      "outputs": [
        {
          "output_type": "stream",
          "name": "stdout",
          "text": [
            "2\n",
            "3\n",
            "4\n"
          ]
        }
      ]
    },
    {
      "cell_type": "code",
      "source": [
        "for a in ['dog', 'cat', 'mouse']:\n",
        "    print(a)"
      ],
      "metadata": {
        "colab": {
          "base_uri": "https://localhost:8080/"
        },
        "id": "2cbe_PMJ5kIJ",
        "outputId": "2c3a186f-a4b7-4308-a499-a7d19cde8968"
      },
      "execution_count": null,
      "outputs": [
        {
          "output_type": "stream",
          "name": "stdout",
          "text": [
            "dog\n",
            "cat\n",
            "mouse\n"
          ]
        }
      ]
    },
    {
      "cell_type": "code",
      "source": [
        "for a in ['dog', 'cat', 'mouse']:\n",
        "    if a == 'cat':\n",
        "        break\n",
        "    print(a)"
      ],
      "metadata": {
        "colab": {
          "base_uri": "https://localhost:8080/"
        },
        "outputId": "a2f84c95-a0f5-4931-bad3-48970558690a",
        "id": "sLYuyaUj5ypq"
      },
      "execution_count": null,
      "outputs": [
        {
          "output_type": "stream",
          "name": "stdout",
          "text": [
            "dog\n"
          ]
        }
      ]
    },
    {
      "cell_type": "code",
      "source": [
        "for a in ['dog', 'cat', 'mouse']:\n",
        "    if a == 'cat':\n",
        "        continue\n",
        "    print(a)"
      ],
      "metadata": {
        "colab": {
          "base_uri": "https://localhost:8080/"
        },
        "id": "j_ESQzz16TfT",
        "outputId": "de8f2e03-c312-49df-b296-53bae6b0a06f"
      },
      "execution_count": null,
      "outputs": [
        {
          "output_type": "stream",
          "name": "stdout",
          "text": [
            "dog\n",
            "mouse\n"
          ]
        }
      ]
    },
    {
      "cell_type": "markdown",
      "source": [
        "## While Loops"
      ],
      "metadata": {
        "id": "56Zy-HgV5qbn"
      }
    },
    {
      "cell_type": "code",
      "source": [
        "i = 0\n",
        "while i < 5:\n",
        "    print(i)\n",
        "    i += 1"
      ],
      "metadata": {
        "colab": {
          "base_uri": "https://localhost:8080/"
        },
        "id": "9qD2YbOT5mAF",
        "outputId": "d2f8fab6-334e-49f1-c875-6b267330bc28"
      },
      "execution_count": null,
      "outputs": [
        {
          "output_type": "stream",
          "name": "stdout",
          "text": [
            "0\n",
            "1\n",
            "2\n",
            "3\n",
            "4\n"
          ]
        }
      ]
    },
    {
      "cell_type": "code",
      "source": [
        "i = 0\n",
        "while i < 10:\n",
        "    if i % 2 == 0:\n",
        "        print(i, 'Es par')\n",
        "    else:\n",
        "        print(i, 'Es impar')\n",
        "    i += 1"
      ],
      "metadata": {
        "colab": {
          "base_uri": "https://localhost:8080/"
        },
        "id": "S3RNAS_r6WEo",
        "outputId": "ecd45efa-fce1-4c18-b6c6-6bff8c41dfcd"
      },
      "execution_count": null,
      "outputs": [
        {
          "output_type": "stream",
          "name": "stdout",
          "text": [
            "0 Es par\n",
            "1 Es impar\n",
            "2 Es par\n",
            "3 Es impar\n",
            "4 Es par\n",
            "5 Es impar\n",
            "6 Es par\n",
            "7 Es impar\n",
            "8 Es par\n",
            "9 Es impar\n"
          ]
        }
      ]
    },
    {
      "cell_type": "markdown",
      "source": [
        "# Listas"
      ],
      "metadata": {
        "id": "MZSOphPg6kj_"
      }
    },
    {
      "cell_type": "code",
      "source": [
        "grocery = ['leche', 'huevos', 'azúcar', 'pan']\n",
        "print(grocery)"
      ],
      "metadata": {
        "colab": {
          "base_uri": "https://localhost:8080/"
        },
        "id": "uerA2fci5tgb",
        "outputId": "2a1c59a4-0d90-4346-f091-c7726956bfd5"
      },
      "execution_count": null,
      "outputs": [
        {
          "output_type": "stream",
          "name": "stdout",
          "text": [
            "['leche', 'huevos', 'azúcar', 'pan']\n"
          ]
        }
      ]
    },
    {
      "cell_type": "code",
      "source": [
        "grocery[1]"
      ],
      "metadata": {
        "colab": {
          "base_uri": "https://localhost:8080/",
          "height": 35
        },
        "id": "Z76tPwuj6q3l",
        "outputId": "21da7694-48d4-4467-ecad-ec5e56960c06"
      },
      "execution_count": null,
      "outputs": [
        {
          "output_type": "execute_result",
          "data": {
            "text/plain": [
              "'huevos'"
            ],
            "application/vnd.google.colaboratory.intrinsic+json": {
              "type": "string"
            }
          },
          "metadata": {},
          "execution_count": 19
        }
      ]
    },
    {
      "cell_type": "code",
      "source": [
        "grocery[2] = 'azúcar morena'\n",
        "print(grocery)"
      ],
      "metadata": {
        "colab": {
          "base_uri": "https://localhost:8080/"
        },
        "id": "RYJT8i3e6s3-",
        "outputId": "83fa3b7c-5c42-41e0-c02e-02b4b3f9ff23"
      },
      "execution_count": null,
      "outputs": [
        {
          "output_type": "stream",
          "name": "stdout",
          "text": [
            "['leche', 'huevos', 'azúcar morena', 'pan']\n"
          ]
        }
      ]
    },
    {
      "cell_type": "code",
      "source": [
        "[1, 2, 3] + [4, 5, 6]"
      ],
      "metadata": {
        "colab": {
          "base_uri": "https://localhost:8080/"
        },
        "id": "LidcMiSe61QC",
        "outputId": "99e8e6e3-71f2-4226-a766-f96f40fe955f"
      },
      "execution_count": null,
      "outputs": [
        {
          "output_type": "execute_result",
          "data": {
            "text/plain": [
              "[1, 2, 3, 4, 5, 6]"
            ]
          },
          "metadata": {},
          "execution_count": 21
        }
      ]
    },
    {
      "cell_type": "code",
      "source": [
        "grocery.append('leche')\n",
        "print(grocery)"
      ],
      "metadata": {
        "colab": {
          "base_uri": "https://localhost:8080/"
        },
        "id": "kJafL_EK67DT",
        "outputId": "0986679e-ff2f-4ce2-95aa-219df90fd567"
      },
      "execution_count": null,
      "outputs": [
        {
          "output_type": "stream",
          "name": "stdout",
          "text": [
            "['leche', 'huevos', 'azúcar morena', 'pan', 'leche']\n"
          ]
        }
      ]
    },
    {
      "cell_type": "code",
      "source": [
        "[x[:3] for x in grocery]"
      ],
      "metadata": {
        "colab": {
          "base_uri": "https://localhost:8080/"
        },
        "id": "4XU6AeUi7ApQ",
        "outputId": "3a5a0c69-dc8c-4dbc-abba-c53cd96b4fa1"
      },
      "execution_count": null,
      "outputs": [
        {
          "output_type": "execute_result",
          "data": {
            "text/plain": [
              "['lec', 'hue', 'azú', 'pan', 'lec']"
            ]
          },
          "metadata": {},
          "execution_count": 23
        }
      ]
    },
    {
      "cell_type": "code",
      "source": [
        "[x[:3] if len(x) <= 5 else None for x in grocery]"
      ],
      "metadata": {
        "colab": {
          "base_uri": "https://localhost:8080/"
        },
        "id": "PBQ8eIGZ7Ivp",
        "outputId": "a7a9297f-a8aa-45f8-a568-61a72ad4c621"
      },
      "execution_count": null,
      "outputs": [
        {
          "output_type": "execute_result",
          "data": {
            "text/plain": [
              "['lec', None, None, 'pan', 'lec']"
            ]
          },
          "metadata": {},
          "execution_count": 24
        }
      ]
    },
    {
      "cell_type": "code",
      "source": [
        "[x[:3] for x in grocery if len(x) <= 5]"
      ],
      "metadata": {
        "colab": {
          "base_uri": "https://localhost:8080/"
        },
        "id": "guU0Kv1p7Tsc",
        "outputId": "69329ed7-e720-419a-d888-f31f59db7fba"
      },
      "execution_count": null,
      "outputs": [
        {
          "output_type": "execute_result",
          "data": {
            "text/plain": [
              "['lec', 'pan', 'lec']"
            ]
          },
          "metadata": {},
          "execution_count": 25
        }
      ]
    },
    {
      "cell_type": "markdown",
      "source": [
        "# Diccionarios"
      ],
      "metadata": {
        "id": "eRpY0Gr569hG"
      }
    },
    {
      "cell_type": "code",
      "source": [
        "data = {\n",
        "    'llave1': 'valor1',\n",
        "    'llave2': 'valor2',\n",
        "    'llave3': 'valor3'\n",
        "}\n",
        "\n",
        "print(data)"
      ],
      "metadata": {
        "colab": {
          "base_uri": "https://localhost:8080/"
        },
        "id": "FFUrxKLn68v6",
        "outputId": "3d2dea63-eef2-4bea-c1ce-49cecbff96d2"
      },
      "execution_count": null,
      "outputs": [
        {
          "output_type": "stream",
          "name": "stdout",
          "text": [
            "{'llave1': 'valor1', 'llave2': 'valor2', 'llave3': 'valor3'}\n"
          ]
        }
      ]
    },
    {
      "cell_type": "code",
      "source": [
        "data['llave1']"
      ],
      "metadata": {
        "colab": {
          "base_uri": "https://localhost:8080/",
          "height": 35
        },
        "id": "U80OtaoA7dWb",
        "outputId": "96cf47bc-b034-4005-8b05-060b27fab6b5"
      },
      "execution_count": null,
      "outputs": [
        {
          "output_type": "execute_result",
          "data": {
            "text/plain": [
              "'valor1'"
            ],
            "application/vnd.google.colaboratory.intrinsic+json": {
              "type": "string"
            }
          },
          "metadata": {},
          "execution_count": 27
        }
      ]
    },
    {
      "cell_type": "code",
      "source": [
        "data['llave4'] = 'valor4'\n",
        "print(data)"
      ],
      "metadata": {
        "colab": {
          "base_uri": "https://localhost:8080/"
        },
        "id": "9NY9H9XH7eY1",
        "outputId": "9fba279e-56a5-4933-b809-2f4c4ce47098"
      },
      "execution_count": null,
      "outputs": [
        {
          "output_type": "stream",
          "name": "stdout",
          "text": [
            "{'llave1': 'valor1', 'llave2': 'valor2', 'llave3': 'valor3', 'llave4': 'valor4'}\n"
          ]
        }
      ]
    }
  ]
}