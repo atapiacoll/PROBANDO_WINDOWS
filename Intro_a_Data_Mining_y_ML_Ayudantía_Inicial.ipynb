{
  "nbformat": 4,
  "nbformat_minor": 0,
  "metadata": {
    "colab": {
      "provenance": [],
      "include_colab_link": true
    },
    "kernelspec": {
      "name": "python3",
      "display_name": "Python 3"
    },
    "language_info": {
      "name": "python"
    }
  },
  "cells": [
    {
      "cell_type": "markdown",
      "metadata": {
        "id": "view-in-github",
        "colab_type": "text"
      },
      "source": [
        "<a href=\"https://colab.research.google.com/github/atapiacoll/PROBANDO_WINDOWS/blob/main/Intro_a_Data_Mining_y_ML_Ayudant%C3%ADa_Inicial.ipynb\" target=\"_parent\"><img src=\"https://colab.research.google.com/assets/colab-badge.svg\" alt=\"Open In Colab\"/></a>"
      ]
    },
    {
      "cell_type": "markdown",
      "source": [
        "# Ayudantía Inicial\n",
        "## Introducción a Minería de Datos y Machine Learning\n",
        "\n",
        "**Profesor:** Mauricio Arriagada.\n",
        "\n",
        "**Ayudante Jefe:** [Vicente Agüero](https://www.linkedin.com/in/vicente-aguero/).\n",
        "\n",
        "> **Recordatorio:** ¡Toda comunicación con el ayudante debe ser mediante la plataforma del curso!"
      ],
      "metadata": {
        "id": "CdbZePSwodnq"
      }
    },
    {
      "cell_type": "markdown",
      "source": [
        "# ¿Te gustan las encuestas? ¡Conozcámonos más!\n",
        "https://www.menti.com/aluj6b8fcdmz"
      ],
      "metadata": {
        "id": "YCajYaWv1ig2"
      }
    },
    {
      "cell_type": "markdown",
      "source": [
        "# ¡Ayuda! No sé descargar una librería 😞"
      ],
      "metadata": {
        "id": "gP2BF2yM1yE1"
      }
    },
    {
      "cell_type": "code",
      "execution_count": null,
      "metadata": {
        "colab": {
          "base_uri": "https://localhost:8080/"
        },
        "id": "tFE56iVjoOdy",
        "outputId": "296cd041-30e4-452d-f751-0d01d6da5b37"
      },
      "outputs": [
        {
          "output_type": "stream",
          "name": "stdout",
          "text": [
            "Requirement already satisfied: pandas in /usr/local/lib/python3.10/dist-packages (2.0.3)\n",
            "Requirement already satisfied: python-dateutil>=2.8.2 in /usr/local/lib/python3.10/dist-packages (from pandas) (2.8.2)\n",
            "Requirement already satisfied: pytz>=2020.1 in /usr/local/lib/python3.10/dist-packages (from pandas) (2023.4)\n",
            "Requirement already satisfied: tzdata>=2022.1 in /usr/local/lib/python3.10/dist-packages (from pandas) (2024.1)\n",
            "Requirement already satisfied: numpy>=1.21.0 in /usr/local/lib/python3.10/dist-packages (from pandas) (1.25.2)\n",
            "Requirement already satisfied: six>=1.5 in /usr/local/lib/python3.10/dist-packages (from python-dateutil>=2.8.2->pandas) (1.16.0)\n"
          ]
        }
      ],
      "source": [
        "# Con \"!\" podemos ejecutar comandas en la terminal directo desde el notebook.\n",
        "# !pip install <nombre-librería>\n",
        "!pip install pandas"
      ]
    },
    {
      "cell_type": "code",
      "source": [
        "# ¡Múltiples librerías!\n",
        "!pip install numpy matplotlib scikit-learn"
      ],
      "metadata": {
        "colab": {
          "base_uri": "https://localhost:8080/"
        },
        "id": "1cdghiQ618hs",
        "outputId": "cfd93a35-7983-4179-98cf-acdbb1979901"
      },
      "execution_count": null,
      "outputs": [
        {
          "output_type": "stream",
          "name": "stdout",
          "text": [
            "Requirement already satisfied: numpy in /usr/local/lib/python3.10/dist-packages (1.25.2)\n",
            "Requirement already satisfied: matplotlib in /usr/local/lib/python3.10/dist-packages (3.7.1)\n",
            "Requirement already satisfied: scikit-learn in /usr/local/lib/python3.10/dist-packages (1.2.2)\n",
            "Requirement already satisfied: contourpy>=1.0.1 in /usr/local/lib/python3.10/dist-packages (from matplotlib) (1.2.1)\n",
            "Requirement already satisfied: cycler>=0.10 in /usr/local/lib/python3.10/dist-packages (from matplotlib) (0.12.1)\n",
            "Requirement already satisfied: fonttools>=4.22.0 in /usr/local/lib/python3.10/dist-packages (from matplotlib) (4.52.4)\n",
            "Requirement already satisfied: kiwisolver>=1.0.1 in /usr/local/lib/python3.10/dist-packages (from matplotlib) (1.4.5)\n",
            "Requirement already satisfied: packaging>=20.0 in /usr/local/lib/python3.10/dist-packages (from matplotlib) (24.0)\n",
            "Requirement already satisfied: pillow>=6.2.0 in /usr/local/lib/python3.10/dist-packages (from matplotlib) (9.4.0)\n",
            "Requirement already satisfied: pyparsing>=2.3.1 in /usr/local/lib/python3.10/dist-packages (from matplotlib) (3.1.2)\n",
            "Requirement already satisfied: python-dateutil>=2.7 in /usr/local/lib/python3.10/dist-packages (from matplotlib) (2.8.2)\n",
            "Requirement already satisfied: scipy>=1.3.2 in /usr/local/lib/python3.10/dist-packages (from scikit-learn) (1.11.4)\n",
            "Requirement already satisfied: joblib>=1.1.1 in /usr/local/lib/python3.10/dist-packages (from scikit-learn) (1.4.2)\n",
            "Requirement already satisfied: threadpoolctl>=2.0.0 in /usr/local/lib/python3.10/dist-packages (from scikit-learn) (3.5.0)\n",
            "Requirement already satisfied: six>=1.5 in /usr/local/lib/python3.10/dist-packages (from python-dateutil>=2.7->matplotlib) (1.16.0)\n"
          ]
        }
      ]
    },
    {
      "cell_type": "markdown",
      "source": [
        "# ¿Qué tanto Python sabes?\n",
        "\n",
        "**¿Quieres recordar un poco de Python?**\n",
        "\n",
        "[Link a Notebook con Python Básico](https://colab.research.google.com/drive/1u9h1LmS1ed6TgEO3XFJDhwCZLiV2l0Ao?usp=sharing)"
      ],
      "metadata": {
        "id": "fB3I_HHJ2w-N"
      }
    },
    {
      "cell_type": "markdown",
      "source": [
        "# ¿Qué tanto Markdown sabes?\n",
        "**¿Más info?** [Guía Markdown](https://www.markdownguide.org/cheat-sheet/)"
      ],
      "metadata": {
        "id": "bI3eOxIO76oU"
      }
    },
    {
      "cell_type": "markdown",
      "source": [
        "# Títulos:\n",
        "# Título 1\n",
        "## Título 2\n",
        "### Título 3\n",
        "#### Título 4\n",
        "##### Título 5\n",
        "###### Título 6\n",
        "\n",
        "# Texto\n",
        "**Texto en negrita**\n",
        "\n",
        "*Texto en cursiva*\n",
        "\n",
        "~~Texto tachado~~\n",
        "\n",
        "# Listas\n",
        "1. Ítem 1\n",
        "2. Ítem 2\n",
        "- Ítem 3\n",
        "+ Ítem 4\n",
        "\n",
        "# URLs e imágenes\n",
        "[Link a Tutorial PEP8](https://realpython.com/python-pep8/)\n",
        "\n",
        "![Python Logo](https://www.python.org/static/community_logos/python-logo.png)"
      ],
      "metadata": {
        "id": "4FCTqu2j8oun"
      }
    },
    {
      "cell_type": "markdown",
      "source": [
        "```markdown\n",
        "# Títulos:\n",
        "# Título 1\n",
        "## Título 2\n",
        "### Título 3\n",
        "#### Título 4\n",
        "##### Título 5\n",
        "###### Título 6\n",
        "\n",
        "# Texto\n",
        "**Texto en negrita**\n",
        "\n",
        "*Texto en cursiva*\n",
        "\n",
        "~~Texto tachado~~\n",
        "\n",
        "# Listas\n",
        "1. Ítem 1\n",
        "2. Ítem 2\n",
        "- Ítem 3\n",
        "+ Ítem 4\n",
        "\n",
        "# URLs e imágenes\n",
        "[Link a Tutorial PEP8](https://realpython.com/python-pep8/)\n",
        "\n",
        "![Python Logo](https://www.python.org/static/community_logos/python-logo.png)\n",
        "```"
      ],
      "metadata": {
        "id": "2qAq0sqR9JQY"
      }
    },
    {
      "cell_type": "markdown",
      "source": [
        "# Dudas y Consultas"
      ],
      "metadata": {
        "id": "95DExlH07umq"
      }
    },
    {
      "cell_type": "code",
      "source": [],
      "metadata": {
        "id": "ltgMy2rd9Pmd"
      },
      "execution_count": null,
      "outputs": []
    },
    {
      "cell_type": "code",
      "source": [],
      "metadata": {
        "id": "y22EVLEhT4ON"
      },
      "execution_count": null,
      "outputs": []
    }
  ]
}